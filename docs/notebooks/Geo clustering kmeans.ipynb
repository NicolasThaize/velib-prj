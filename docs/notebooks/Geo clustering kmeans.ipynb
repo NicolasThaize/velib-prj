{
 "cells": [
  {
   "cell_type": "code",
   "execution_count": 1,
   "id": "d049109a",
   "metadata": {},
   "outputs": [],
   "source": [
    "import pandas as pd\n",
    "import numpy as np\n",
    "import matplotlib.pyplot as plt\n",
    "from sklearn.cluster import KMeans\n",
    "import seaborn as sns; sns.set()"
   ]
  },
  {
   "cell_type": "code",
   "execution_count": 2,
   "id": "231a8e03",
   "metadata": {},
   "outputs": [],
   "source": [
    "df = pd.read_csv('velib-emplacement-des-stations.csv', delimiter=';')"
   ]
  },
  {
   "cell_type": "code",
   "execution_count": 3,
   "id": "80a37e10",
   "metadata": {
    "scrolled": true
   },
   "outputs": [
    {
     "data": {
      "text/html": [
       "<div>\n",
       "<style scoped>\n",
       "    .dataframe tbody tr th:only-of-type {\n",
       "        vertical-align: middle;\n",
       "    }\n",
       "\n",
       "    .dataframe tbody tr th {\n",
       "        vertical-align: top;\n",
       "    }\n",
       "\n",
       "    .dataframe thead th {\n",
       "        text-align: right;\n",
       "    }\n",
       "</style>\n",
       "<table border=\"1\" class=\"dataframe\">\n",
       "  <thead>\n",
       "    <tr style=\"text-align: right;\">\n",
       "      <th></th>\n",
       "      <th>name</th>\n",
       "      <th>coords</th>\n",
       "    </tr>\n",
       "    <tr>\n",
       "      <th>id_station</th>\n",
       "      <th></th>\n",
       "      <th></th>\n",
       "    </tr>\n",
       "  </thead>\n",
       "  <tbody>\n",
       "    <tr>\n",
       "      <th>17044</th>\n",
       "      <td>Porte de Saint-Ouen - Bessières</td>\n",
       "      <td>48.89792240854517, 2.32851451022192</td>\n",
       "    </tr>\n",
       "    <tr>\n",
       "      <th>20143</th>\n",
       "      <td>Ramponeau - Belleville</td>\n",
       "      <td>48.871031137596, 2.379056852114</td>\n",
       "    </tr>\n",
       "    <tr>\n",
       "      <th>16138</th>\n",
       "      <td>Saint-Cloud - Hippodrome</td>\n",
       "      <td>48.85772148887421, 2.2549109905958176</td>\n",
       "    </tr>\n",
       "    <tr>\n",
       "      <th>17008</th>\n",
       "      <td>Porte Pouchet-Bessières</td>\n",
       "      <td>48.8978765, 2.3230632</td>\n",
       "    </tr>\n",
       "    <tr>\n",
       "      <th>10107</th>\n",
       "      <td>Gare du Nord - Hôpital Lariboisière</td>\n",
       "      <td>48.881949, 2.352339</td>\n",
       "    </tr>\n",
       "  </tbody>\n",
       "</table>\n",
       "</div>"
      ],
      "text/plain": [
       "                                           name  \\\n",
       "id_station                                        \n",
       "17044           Porte de Saint-Ouen - Bessières   \n",
       "20143                    Ramponeau - Belleville   \n",
       "16138                  Saint-Cloud - Hippodrome   \n",
       "17008                   Porte Pouchet-Bessières   \n",
       "10107       Gare du Nord - Hôpital Lariboisière   \n",
       "\n",
       "                                           coords  \n",
       "id_station                                         \n",
       "17044         48.89792240854517, 2.32851451022192  \n",
       "20143             48.871031137596, 2.379056852114  \n",
       "16138       48.85772148887421, 2.2549109905958176  \n",
       "17008                       48.8978765, 2.3230632  \n",
       "10107                         48.881949, 2.352339  "
      ]
     },
     "execution_count": 3,
     "metadata": {},
     "output_type": "execute_result"
    }
   ],
   "source": [
    "df = df.rename(columns={\"Identifiant station\": \"id_station\", \"Nom de la station\": 'name', 'Coordonnées géographiques': 'coords'})\n",
    "df_clean = df.drop('Capacité de la station', axis=1)\n",
    "df_clean.set_index('id_station', inplace=True)\n",
    "df_clean.head()"
   ]
  },
  {
   "cell_type": "code",
   "execution_count": 4,
   "id": "3264fc16",
   "metadata": {},
   "outputs": [
    {
     "data": {
      "text/plain": [
       "name      0\n",
       "coords    0\n",
       "dtype: int64"
      ]
     },
     "execution_count": 4,
     "metadata": {},
     "output_type": "execute_result"
    }
   ],
   "source": [
    "df_clean.isna().sum() # Checking if na values"
   ]
  },
  {
   "cell_type": "code",
   "execution_count": 5,
   "id": "9992b66d",
   "metadata": {},
   "outputs": [
    {
     "data": {
      "text/html": [
       "<div>\n",
       "<style scoped>\n",
       "    .dataframe tbody tr th:only-of-type {\n",
       "        vertical-align: middle;\n",
       "    }\n",
       "\n",
       "    .dataframe tbody tr th {\n",
       "        vertical-align: top;\n",
       "    }\n",
       "\n",
       "    .dataframe thead th {\n",
       "        text-align: right;\n",
       "    }\n",
       "</style>\n",
       "<table border=\"1\" class=\"dataframe\">\n",
       "  <thead>\n",
       "    <tr style=\"text-align: right;\">\n",
       "      <th></th>\n",
       "      <th>name</th>\n",
       "      <th>coords</th>\n",
       "      <th>lat</th>\n",
       "      <th>long</th>\n",
       "    </tr>\n",
       "    <tr>\n",
       "      <th>id_station</th>\n",
       "      <th></th>\n",
       "      <th></th>\n",
       "      <th></th>\n",
       "      <th></th>\n",
       "    </tr>\n",
       "  </thead>\n",
       "  <tbody>\n",
       "    <tr>\n",
       "      <th>17044</th>\n",
       "      <td>Porte de Saint-Ouen - Bessières</td>\n",
       "      <td>48.89792240854517, 2.32851451022192</td>\n",
       "      <td>48.897922</td>\n",
       "      <td>2.328515</td>\n",
       "    </tr>\n",
       "    <tr>\n",
       "      <th>20143</th>\n",
       "      <td>Ramponeau - Belleville</td>\n",
       "      <td>48.871031137596, 2.379056852114</td>\n",
       "      <td>48.871031</td>\n",
       "      <td>2.379057</td>\n",
       "    </tr>\n",
       "    <tr>\n",
       "      <th>16138</th>\n",
       "      <td>Saint-Cloud - Hippodrome</td>\n",
       "      <td>48.85772148887421, 2.2549109905958176</td>\n",
       "      <td>48.857721</td>\n",
       "      <td>2.254911</td>\n",
       "    </tr>\n",
       "    <tr>\n",
       "      <th>17008</th>\n",
       "      <td>Porte Pouchet-Bessières</td>\n",
       "      <td>48.8978765, 2.3230632</td>\n",
       "      <td>48.897877</td>\n",
       "      <td>2.323063</td>\n",
       "    </tr>\n",
       "    <tr>\n",
       "      <th>10107</th>\n",
       "      <td>Gare du Nord - Hôpital Lariboisière</td>\n",
       "      <td>48.881949, 2.352339</td>\n",
       "      <td>48.881949</td>\n",
       "      <td>2.352339</td>\n",
       "    </tr>\n",
       "  </tbody>\n",
       "</table>\n",
       "</div>"
      ],
      "text/plain": [
       "                                           name  \\\n",
       "id_station                                        \n",
       "17044           Porte de Saint-Ouen - Bessières   \n",
       "20143                    Ramponeau - Belleville   \n",
       "16138                  Saint-Cloud - Hippodrome   \n",
       "17008                   Porte Pouchet-Bessières   \n",
       "10107       Gare du Nord - Hôpital Lariboisière   \n",
       "\n",
       "                                           coords        lat      long  \n",
       "id_station                                                              \n",
       "17044         48.89792240854517, 2.32851451022192  48.897922  2.328515  \n",
       "20143             48.871031137596, 2.379056852114  48.871031  2.379057  \n",
       "16138       48.85772148887421, 2.2549109905958176  48.857721  2.254911  \n",
       "17008                       48.8978765, 2.3230632  48.897877  2.323063  \n",
       "10107                         48.881949, 2.352339  48.881949  2.352339  "
      ]
     },
     "execution_count": 5,
     "metadata": {},
     "output_type": "execute_result"
    }
   ],
   "source": [
    "df_clean[['lat', 'long']] = df_clean['coords'].str.split(', ', expand=True) # Splitting coordinates to separates columns\n",
    "df_clean['lat'] = pd.to_numeric(df_clean['lat']) # casting to numerical values\n",
    "df_clean['long'] = pd.to_numeric(df_clean['long']) # casting to numerical values\n",
    "df_clean.head()"
   ]
  },
  {
   "cell_type": "code",
   "execution_count": 6,
   "id": "71bc332e",
   "metadata": {},
   "outputs": [
    {
     "data": {
      "text/html": [
       "<div>\n",
       "<style scoped>\n",
       "    .dataframe tbody tr th:only-of-type {\n",
       "        vertical-align: middle;\n",
       "    }\n",
       "\n",
       "    .dataframe tbody tr th {\n",
       "        vertical-align: top;\n",
       "    }\n",
       "\n",
       "    .dataframe thead th {\n",
       "        text-align: right;\n",
       "    }\n",
       "</style>\n",
       "<table border=\"1\" class=\"dataframe\">\n",
       "  <thead>\n",
       "    <tr style=\"text-align: right;\">\n",
       "      <th></th>\n",
       "      <th>lat</th>\n",
       "      <th>long</th>\n",
       "    </tr>\n",
       "    <tr>\n",
       "      <th>id_station</th>\n",
       "      <th></th>\n",
       "      <th></th>\n",
       "    </tr>\n",
       "  </thead>\n",
       "  <tbody>\n",
       "    <tr>\n",
       "      <th>17044</th>\n",
       "      <td>48.897922</td>\n",
       "      <td>2.328515</td>\n",
       "    </tr>\n",
       "    <tr>\n",
       "      <th>20143</th>\n",
       "      <td>48.871031</td>\n",
       "      <td>2.379057</td>\n",
       "    </tr>\n",
       "    <tr>\n",
       "      <th>16138</th>\n",
       "      <td>48.857721</td>\n",
       "      <td>2.254911</td>\n",
       "    </tr>\n",
       "    <tr>\n",
       "      <th>17008</th>\n",
       "      <td>48.897877</td>\n",
       "      <td>2.323063</td>\n",
       "    </tr>\n",
       "    <tr>\n",
       "      <th>10107</th>\n",
       "      <td>48.881949</td>\n",
       "      <td>2.352339</td>\n",
       "    </tr>\n",
       "  </tbody>\n",
       "</table>\n",
       "</div>"
      ],
      "text/plain": [
       "                  lat      long\n",
       "id_station                     \n",
       "17044       48.897922  2.328515\n",
       "20143       48.871031  2.379057\n",
       "16138       48.857721  2.254911\n",
       "17008       48.897877  2.323063\n",
       "10107       48.881949  2.352339"
      ]
     },
     "execution_count": 6,
     "metadata": {},
     "output_type": "execute_result"
    }
   ],
   "source": [
    "X=df_clean.loc[:, ['lat', 'long']] # Data which is meant to be clustered\n",
    "X.head()"
   ]
  },
  {
   "cell_type": "code",
   "execution_count": 7,
   "id": "45dbe4bf",
   "metadata": {},
   "outputs": [
    {
     "data": {
      "text/html": [
       "<div>\n",
       "<style scoped>\n",
       "    .dataframe tbody tr th:only-of-type {\n",
       "        vertical-align: middle;\n",
       "    }\n",
       "\n",
       "    .dataframe tbody tr th {\n",
       "        vertical-align: top;\n",
       "    }\n",
       "\n",
       "    .dataframe thead th {\n",
       "        text-align: right;\n",
       "    }\n",
       "</style>\n",
       "<table border=\"1\" class=\"dataframe\">\n",
       "  <thead>\n",
       "    <tr style=\"text-align: right;\">\n",
       "      <th></th>\n",
       "      <th>lat</th>\n",
       "      <th>long</th>\n",
       "      <th>cluster_label</th>\n",
       "    </tr>\n",
       "    <tr>\n",
       "      <th>id_station</th>\n",
       "      <th></th>\n",
       "      <th></th>\n",
       "      <th></th>\n",
       "    </tr>\n",
       "  </thead>\n",
       "  <tbody>\n",
       "    <tr>\n",
       "      <th>17044</th>\n",
       "      <td>48.897922</td>\n",
       "      <td>2.328515</td>\n",
       "      <td>15</td>\n",
       "    </tr>\n",
       "    <tr>\n",
       "      <th>20143</th>\n",
       "      <td>48.871031</td>\n",
       "      <td>2.379057</td>\n",
       "      <td>34</td>\n",
       "    </tr>\n",
       "    <tr>\n",
       "      <th>16138</th>\n",
       "      <td>48.857721</td>\n",
       "      <td>2.254911</td>\n",
       "      <td>14</td>\n",
       "    </tr>\n",
       "    <tr>\n",
       "      <th>17008</th>\n",
       "      <td>48.897877</td>\n",
       "      <td>2.323063</td>\n",
       "      <td>15</td>\n",
       "    </tr>\n",
       "    <tr>\n",
       "      <th>10107</th>\n",
       "      <td>48.881949</td>\n",
       "      <td>2.352339</td>\n",
       "      <td>7</td>\n",
       "    </tr>\n",
       "    <tr>\n",
       "      <th>11002</th>\n",
       "      <td>48.855079</td>\n",
       "      <td>2.373369</td>\n",
       "      <td>73</td>\n",
       "    </tr>\n",
       "    <tr>\n",
       "      <th>16039</th>\n",
       "      <td>48.840975</td>\n",
       "      <td>2.264390</td>\n",
       "      <td>14</td>\n",
       "    </tr>\n",
       "    <tr>\n",
       "      <th>11027</th>\n",
       "      <td>48.862148</td>\n",
       "      <td>2.377235</td>\n",
       "      <td>36</td>\n",
       "    </tr>\n",
       "    <tr>\n",
       "      <th>18028</th>\n",
       "      <td>48.894019</td>\n",
       "      <td>2.331987</td>\n",
       "      <td>15</td>\n",
       "    </tr>\n",
       "    <tr>\n",
       "      <th>20115</th>\n",
       "      <td>48.864311</td>\n",
       "      <td>2.410521</td>\n",
       "      <td>61</td>\n",
       "    </tr>\n",
       "  </tbody>\n",
       "</table>\n",
       "</div>"
      ],
      "text/plain": [
       "                  lat      long  cluster_label\n",
       "id_station                                    \n",
       "17044       48.897922  2.328515             15\n",
       "20143       48.871031  2.379057             34\n",
       "16138       48.857721  2.254911             14\n",
       "17008       48.897877  2.323063             15\n",
       "10107       48.881949  2.352339              7\n",
       "11002       48.855079  2.373369             73\n",
       "16039       48.840975  2.264390             14\n",
       "11027       48.862148  2.377235             36\n",
       "18028       48.894019  2.331987             15\n",
       "20115       48.864311  2.410521             61"
      ]
     },
     "execution_count": 7,
     "metadata": {},
     "output_type": "execute_result"
    }
   ],
   "source": [
    "# 30 clusters because of number of Paris district + nb of cities around\n",
    "kmeans = KMeans(n_clusters = 74, init ='k-means++')\n",
    "X['cluster_label'] = kmeans.fit_predict(X[X.columns[0:2]])\n",
    "centers = kmeans.cluster_centers_ # Coordinates of cluster centers.\n",
    "X.head(10)"
   ]
  },
  {
   "cell_type": "code",
   "execution_count": 13,
   "id": "1e879043",
   "metadata": {},
   "outputs": [
    {
     "data": {
      "text/plain": [
       "<matplotlib.collections.PathCollection at 0x13bf84850>"
      ]
     },
     "execution_count": 13,
     "metadata": {},
     "output_type": "execute_result"
    },
    {
     "data": {
      "image/png": "[encoded data removed]",
      "text/plain": [
       "<Figure size 432x288 with 2 Axes>"
      ]
     },
     "metadata": {},
     "output_type": "display_data"
    }
   ],
   "source": [
    "X.plot.scatter(x = 'lat', y = 'long', c=X['cluster_label'], s=50, cmap='viridis')\n",
    "plt.scatter(centers[:, 0], centers[:, 1], c='black', s=50, alpha=0.5)"
   ]
  },
  {
   "cell_type": "code",
   "execution_count": null,
   "id": "5cc8064e",
   "metadata": {},
   "outputs": [
    {
     "ename": "",
     "evalue": "",
     "output_type": "error",
     "traceback": [
      "\u001b[1;31mJupyter cannot be started. Error attempting to locate Jupyter: Running cells requires jupyter and notebook package.\n",
      "\u001b[1;31mRun the following command to install 'jupyter and notebook' into the Python environment. \n",
      "\u001b[1;31mCommand: 'python -m pip install jupyter notebook -U\n",
      "\u001b[1;31mor\n",
      "\u001b[1;31mconda install jupyter notebook -U'\n",
      "\u001b[1;31mClick <a href='https://aka.ms/installJupyterForVSCode'>here</a> for more info."
     ]
    }
   ],
   "source": [
    "X['cluster_label']"
   ]
  },
  {
   "cell_type": "code",
   "execution_count": null,
   "id": "64fbc996",
   "metadata": {},
   "outputs": [],
   "source": []
  }
 ],
 "metadata": {
  "kernelspec": {
   "display_name": "Python 3",
   "language": "python",
   "name": "python3"
  },
  "language_info": {
   "codemirror_mode": {
    "name": "ipython",
    "version": 3
   },
   "file_extension": ".py",
   "mimetype": "text/x-python",
   "name": "python",
   "nbconvert_exporter": "python",
   "pygments_lexer": "ipython3",
   "version": "3.10.0"
  },
  "varInspector": {
   "cols": {
    "lenName": 16,
    "lenType": 16,
    "lenVar": 40
   },
   "kernels_config": {
    "python": {
     "delete_cmd_postfix": "",
     "delete_cmd_prefix": "del ",
     "library": "var_list.py",
     "varRefreshCmd": "print(var_dic_list())"
    },
    "r": {
     "delete_cmd_postfix": ") ",
     "delete_cmd_prefix": "rm(",
     "library": "var_list.r",
     "varRefreshCmd": "cat(var_dic_list()) "
    }
   },
   "types_to_exclude": [
    "module",
    "function",
    "builtin_function_or_method",
    "instance",
    "_Feature"
   ],
   "window_display": false
  },
  "vscode": {
   "interpreter": {
    "hash": "aee8b7b246df8f9039afb4144a1f6fd8d2ca17a180786b69acc140d282b71a49"
   }
  }
 },
 "nbformat": 4,
 "nbformat_minor": 5
}
